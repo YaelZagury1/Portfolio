{
 "cells": [
  {
   "cell_type": "markdown",
   "id": "589b9774-9d1c-466f-803d-59aa18a97dde",
   "metadata": {},
   "source": [
    "# Five-Year Plan for East Jerusalem - Government Decision 880"
   ]
  },
  {
   "cell_type": "markdown",
   "id": "e597d272-6cd4-4754-af77-55cc149c8b12",
   "metadata": {},
   "source": [
    "## PART 1- Project Description"
   ]
  },
  {
   "cell_type": "markdown",
   "id": "33dc3c0f-29b7-474f-81b8-82d39f7b4852",
   "metadata": {},
   "source": [
    "The HOMESH_880 database holds data related to managing the budget for implementing Government Decision 880, which is part of the Five-Year Plan for East Jerusalem in education.\n",
    "This is the second five-year plan (after Decision 3790) and builds directly on the previous one, with clearer goals and a bigger budget.\n",
    "Most of the activities in the plan are run by the Jerusalem Municipality and funded by the Ministry of Finance through the Ministry of Education.\n",
    "\n",
    "The plan includes a list of strategic goals set by the government decision, each with its own budget. Based on these goals, the Jerusalem Municipality runs different projects in schools in East Jerusalem or in informal settings.\n",
    "\n",
    "The data includes information from a full academic year (last year) and a few months from the current academic year. I want to use this data to understand different operational issues that will help manage and use the budget more effectively:\n",
    "\n",
    "1. What percentage of our expenses is spent on employee salaries and supplier activities for each project?\n",
    "2. Which months have the highest expenses, when we will need more cash flow?\n",
    "3. Which project managers submit invoices on time and which ones need to improve?\n",
    "4. How much cash do we currently have in work orders compared to the invoices we need to pay?\n",
    "5. How much of the total annual cost of the entire program in the current academic year is funded by the Ministry of Education, and how much is covered by the Jerusalem Municipality?\n",
    "\n",
    "I will answer these questions by analyzing the data – organizing, sorting, and grouping the data in different ways using the Pandas library. Then, I will use the Matplotlib and Seaborn libraries to create visualizations that will make it easier and clearer to understand the answers."
   ]
  },
  {
   "cell_type": "markdown",
   "id": "cbcdb5ff-3163-4d77-bee1-8f317f509e21",
   "metadata": {},
   "source": [
    "## PART 2- Data import and optimization"
   ]
  },
  {
   "cell_type": "code",
   "execution_count": 5,
   "id": "e94230ab-73e4-4f48-8926-b9450dda6272",
   "metadata": {},
   "outputs": [],
   "source": [
    "import pyodbc\n",
    "import pandas as pd\n",
    "import seaborn as sb\n",
    "import matplotlib.pyplot as plt\n",
    "import datetime as dt"
   ]
  },
  {
   "cell_type": "code",
   "execution_count": 6,
   "id": "b9b0d997-57e7-4eeb-892c-4187416ad16b",
   "metadata": {},
   "outputs": [],
   "source": [
    "# Connects to the 'HOMESH_880' database on the SQL Server using the ODBC driver:\n",
    "conn=pyodbc.connect('Driver={ODBC Driver 17 for SQL Server};'\n",
    "                    'Server=DESKTOP-HAF03OG\\\\SQLEXPRESS;'\n",
    "                    'Database=HOMESH_880;'\n",
    "                    'Trusted_Connection=yes;')"
   ]
  },
  {
   "cell_type": "code",
   "execution_count": 7,
   "id": "5bf96053-229a-4994-abd4-907f7de0ffc2",
   "metadata": {},
   "outputs": [
    {
     "name": "stderr",
     "output_type": "stream",
     "text": [
      "C:\\Users\\אלביליה\\AppData\\Local\\Temp\\ipykernel_14156\\1552492599.py:2: UserWarning: pandas only supports SQLAlchemy connectable (engine/connection) or database string URI or sqlite3 DBAPI2 connection. Other DBAPI2 objects are not tested. Please consider using SQLAlchemy.\n",
      "  invoices = pd.read_sql('select* from Invoices',conn)\n"
     ]
    }
   ],
   "source": [
    "# Importing a data table from SQL:\n",
    "invoices = pd.read_sql('select* from Invoices',conn)"
   ]
  },
  {
   "cell_type": "code",
   "execution_count": 8,
   "id": "6a113e53-e08d-4c37-b1d9-c21373976d49",
   "metadata": {},
   "outputs": [
    {
     "data": {
      "text/html": [
       "<div>\n",
       "<style scoped>\n",
       "    .dataframe tbody tr th:only-of-type {\n",
       "        vertical-align: middle;\n",
       "    }\n",
       "\n",
       "    .dataframe tbody tr th {\n",
       "        vertical-align: top;\n",
       "    }\n",
       "\n",
       "    .dataframe thead th {\n",
       "        text-align: right;\n",
       "    }\n",
       "</style>\n",
       "<table border=\"1\" class=\"dataframe\">\n",
       "  <thead>\n",
       "    <tr style=\"text-align: right;\">\n",
       "      <th></th>\n",
       "      <th>Invoice_ID</th>\n",
       "      <th>Pay_Channel</th>\n",
       "      <th>Oreder_ID</th>\n",
       "      <th>Payment_Request</th>\n",
       "      <th>Received_Date</th>\n",
       "      <th>Supplier_Invoice_Doc</th>\n",
       "      <th>ID_Lavy</th>\n",
       "      <th>Target</th>\n",
       "      <th>Project_ID</th>\n",
       "      <th>Sub_Project_Name</th>\n",
       "      <th>...</th>\n",
       "      <th>To_Report</th>\n",
       "      <th>Status</th>\n",
       "      <th>Status_Update_Date</th>\n",
       "      <th>Note_For_Reporting</th>\n",
       "      <th>For_Reporting</th>\n",
       "      <th>Was_Reported</th>\n",
       "      <th>Report_date</th>\n",
       "      <th>Calendar Year</th>\n",
       "      <th>Study_Year</th>\n",
       "      <th>Invoice_Month</th>\n",
       "    </tr>\n",
       "  </thead>\n",
       "  <tbody>\n",
       "    <tr>\n",
       "      <th>0</th>\n",
       "      <td>1</td>\n",
       "      <td>לביא</td>\n",
       "      <td>36-23-325</td>\n",
       "      <td>17900923</td>\n",
       "      <td>2023-09-11</td>\n",
       "      <td>500180</td>\n",
       "      <td>790.0</td>\n",
       "      <td>ניהול ובקרה</td>\n",
       "      <td>1</td>\n",
       "      <td>ניהול ובקרה</td>\n",
       "      <td>...</td>\n",
       "      <td>0.0</td>\n",
       "      <td>עבר להנה\"ח</td>\n",
       "      <td>2023-12-31</td>\n",
       "      <td>None</td>\n",
       "      <td>לא</td>\n",
       "      <td>None</td>\n",
       "      <td>None</td>\n",
       "      <td>2023</td>\n",
       "      <td>תשפ\"ד</td>\n",
       "      <td>09-2023</td>\n",
       "    </tr>\n",
       "    <tr>\n",
       "      <th>1</th>\n",
       "      <td>2</td>\n",
       "      <td>לביא</td>\n",
       "      <td>36-23-325</td>\n",
       "      <td>17900923</td>\n",
       "      <td>2023-09-13</td>\n",
       "      <td>78</td>\n",
       "      <td>790.0</td>\n",
       "      <td>ניהול ובקרה</td>\n",
       "      <td>1</td>\n",
       "      <td>ניהול ובקרה</td>\n",
       "      <td>...</td>\n",
       "      <td>0.0</td>\n",
       "      <td>עבר להנה\"ח</td>\n",
       "      <td>2023-12-31</td>\n",
       "      <td>None</td>\n",
       "      <td>לא</td>\n",
       "      <td>None</td>\n",
       "      <td>None</td>\n",
       "      <td>2023</td>\n",
       "      <td>תשפ\"ד</td>\n",
       "      <td>09-2023</td>\n",
       "    </tr>\n",
       "    <tr>\n",
       "      <th>2</th>\n",
       "      <td>3</td>\n",
       "      <td>לביא</td>\n",
       "      <td>36-23-325</td>\n",
       "      <td>17930923</td>\n",
       "      <td>2023-09-15</td>\n",
       "      <td>3082023</td>\n",
       "      <td>793.0</td>\n",
       "      <td>חינוך מדעי טכנולוגי</td>\n",
       "      <td>25</td>\n",
       "      <td>אלבשאיר סטודנטים תואר ראשון</td>\n",
       "      <td>...</td>\n",
       "      <td>0.0</td>\n",
       "      <td>עבר להנה\"ח</td>\n",
       "      <td>2023-12-10</td>\n",
       "      <td>None</td>\n",
       "      <td>לא</td>\n",
       "      <td>None</td>\n",
       "      <td>None</td>\n",
       "      <td>2023</td>\n",
       "      <td>תשפ\"ד</td>\n",
       "      <td>09-2023</td>\n",
       "    </tr>\n",
       "    <tr>\n",
       "      <th>3</th>\n",
       "      <td>4</td>\n",
       "      <td>לביא</td>\n",
       "      <td>36-23-325</td>\n",
       "      <td>17900923</td>\n",
       "      <td>2023-09-21</td>\n",
       "      <td>1034</td>\n",
       "      <td>790.0</td>\n",
       "      <td>ניהול ובקרה</td>\n",
       "      <td>1</td>\n",
       "      <td>אסטרטגיה</td>\n",
       "      <td>...</td>\n",
       "      <td>0.0</td>\n",
       "      <td>עבר להנה\"ח</td>\n",
       "      <td>2023-12-31</td>\n",
       "      <td>None</td>\n",
       "      <td>לא</td>\n",
       "      <td>None</td>\n",
       "      <td>None</td>\n",
       "      <td>2023</td>\n",
       "      <td>תשפ\"ד</td>\n",
       "      <td>09-2023</td>\n",
       "    </tr>\n",
       "    <tr>\n",
       "      <th>4</th>\n",
       "      <td>5</td>\n",
       "      <td>לביא</td>\n",
       "      <td>36-23-325</td>\n",
       "      <td>17900923</td>\n",
       "      <td>2023-09-21</td>\n",
       "      <td>1035</td>\n",
       "      <td>790.0</td>\n",
       "      <td>ניהול ובקרה</td>\n",
       "      <td>1</td>\n",
       "      <td>אסטרטגיה</td>\n",
       "      <td>...</td>\n",
       "      <td>0.0</td>\n",
       "      <td>עבר להנה\"ח</td>\n",
       "      <td>2023-12-31</td>\n",
       "      <td>None</td>\n",
       "      <td>לא</td>\n",
       "      <td>None</td>\n",
       "      <td>None</td>\n",
       "      <td>2023</td>\n",
       "      <td>תשפ\"ד</td>\n",
       "      <td>09-2023</td>\n",
       "    </tr>\n",
       "  </tbody>\n",
       "</table>\n",
       "<p>5 rows × 26 columns</p>\n",
       "</div>"
      ],
      "text/plain": [
       "   Invoice_ID Pay_Channel  Oreder_ID Payment_Request Received_Date  \\\n",
       "0           1        לביא  36-23-325        17900923    2023-09-11   \n",
       "1           2        לביא  36-23-325        17900923    2023-09-13   \n",
       "2           3        לביא  36-23-325        17930923    2023-09-15   \n",
       "3           4        לביא  36-23-325        17900923    2023-09-21   \n",
       "4           5        לביא  36-23-325        17900923    2023-09-21   \n",
       "\n",
       "  Supplier_Invoice_Doc  ID_Lavy               Target  Project_ID  \\\n",
       "0               500180    790.0          ניהול ובקרה           1   \n",
       "1                   78    790.0          ניהול ובקרה           1   \n",
       "2              3082023    793.0  חינוך מדעי טכנולוגי          25   \n",
       "3                 1034    790.0          ניהול ובקרה           1   \n",
       "4                 1035    790.0          ניהול ובקרה           1   \n",
       "\n",
       "              Sub_Project_Name  ... To_Report      Status Status_Update_Date  \\\n",
       "0                  ניהול ובקרה  ...       0.0  עבר להנה\"ח         2023-12-31   \n",
       "1                  ניהול ובקרה  ...       0.0  עבר להנה\"ח         2023-12-31   \n",
       "2  אלבשאיר סטודנטים תואר ראשון  ...       0.0  עבר להנה\"ח         2023-12-10   \n",
       "3                     אסטרטגיה  ...       0.0  עבר להנה\"ח         2023-12-31   \n",
       "4                     אסטרטגיה  ...       0.0  עבר להנה\"ח         2023-12-31   \n",
       "\n",
       "  Note_For_Reporting  For_Reporting  Was_Reported  Report_date Calendar Year  \\\n",
       "0               None             לא          None         None          2023   \n",
       "1               None             לא          None         None          2023   \n",
       "2               None             לא          None         None          2023   \n",
       "3               None             לא          None         None          2023   \n",
       "4               None             לא          None         None          2023   \n",
       "\n",
       "  Study_Year Invoice_Month  \n",
       "0      תשפ\"ד       09-2023  \n",
       "1      תשפ\"ד       09-2023  \n",
       "2      תשפ\"ד       09-2023  \n",
       "3      תשפ\"ד       09-2023  \n",
       "4      תשפ\"ד       09-2023  \n",
       "\n",
       "[5 rows x 26 columns]"
      ]
     },
     "execution_count": 8,
     "metadata": {},
     "output_type": "execute_result"
    }
   ],
   "source": [
    "# Viewing the first five rows from the table:\n",
    "invoices.head(5)"
   ]
  },
  {
   "cell_type": "code",
   "execution_count": 9,
   "id": "87a436f5-3b99-4a22-8da7-01c6e6dd4f03",
   "metadata": {},
   "outputs": [
    {
     "name": "stdout",
     "output_type": "stream",
     "text": [
      "<class 'pandas.core.frame.DataFrame'>\n",
      "RangeIndex: 596 entries, 0 to 595\n",
      "Data columns (total 26 columns):\n",
      " #   Column                   Non-Null Count  Dtype  \n",
      "---  ------                   --------------  -----  \n",
      " 0   Invoice_ID               596 non-null    int64  \n",
      " 1   Pay_Channel              596 non-null    object \n",
      " 2   Oreder_ID                488 non-null    object \n",
      " 3   Payment_Request          596 non-null    object \n",
      " 4   Received_Date            596 non-null    object \n",
      " 5   Supplier_Invoice_Doc     596 non-null    object \n",
      " 6   ID_Lavy                  584 non-null    float64\n",
      " 7   Target                   596 non-null    object \n",
      " 8   Project_ID               596 non-null    int64  \n",
      " 9   Sub_Project_Name         596 non-null    object \n",
      " 10  Supplier_Name            596 non-null    object \n",
      " 11  Description              596 non-null    object \n",
      " 12  Received_From            596 non-null    object \n",
      " 13  Salaries_Or_Activity     596 non-null    object \n",
      " 14  Price_Before_Overhead    596 non-null    float64\n",
      " 15  Price_Includes_Overhead  596 non-null    float64\n",
      " 16  To_Report                596 non-null    float64\n",
      " 17  Status                   596 non-null    object \n",
      " 18  Status_Update_Date       596 non-null    object \n",
      " 19  Note_For_Reporting       45 non-null     object \n",
      " 20  For_Reporting            596 non-null    object \n",
      " 21  Was_Reported             485 non-null    object \n",
      " 22  Report_date              478 non-null    object \n",
      " 23  Calendar Year            596 non-null    int64  \n",
      " 24  Study_Year               596 non-null    object \n",
      " 25  Invoice_Month            596 non-null    object \n",
      "dtypes: float64(4), int64(3), object(19)\n",
      "memory usage: 121.2+ KB\n"
     ]
    }
   ],
   "source": [
    "# Viewing some information about the table:\n",
    "invoices.info()"
   ]
  },
  {
   "cell_type": "markdown",
   "id": "1b504dc1-de17-4a18-bab5-bbb16da3d9a4",
   "metadata": {},
   "source": [
    "**Explanation of the columns in the table**\n",
    "\n",
    "This table manages the information about the expenses for all projects in the program, including salaries and suppliers.\\\n",
    "This table contains the following columns:\n",
    "\n",
    "- **Invoice_ID** – A unique ID for each record.\n",
    "- **Pay_Channel** – The payment channel – whether it is paid through the municipality or through the Lavy Association.\n",
    "- **Order_ID** – The work order number from which the invoice will be paid. \n",
    "- **Payment_Request** – The payment request number.\n",
    "- **Received_Date** – The date the invoice was received by the municipality for processing.\n",
    "- **Supplier_Invoice_Doc** – The invoice number as recorded by the supplier on the document submitted.\n",
    "- **ID_Lavy** – If the payment request is through the Lavy Association.\n",
    "- **Target** – The five-year plan target. \n",
    "- **Project_ID** – The project to which the invoice belongs.\n",
    "- **Sub_Project_Name** – Sub-project name.\n",
    "- **Supplier_Name** – Supplier’s name.\n",
    "- **Description** – Description of the invoice.\n",
    "- **Received_From** – The name of the project manager who submitted the invoice.\n",
    "- **Salaries_Or_Activity** – A field that can contain two values – Salary / Activity.\n",
    "- **Price_Before_Overhead** – Price before overhead – contains the invoice amount.\n",
    "- **Price_Includes_Overhead** – If the invoice is paid through Lavy, it includes the overhead cost. \n",
    "- **To_Report** – Contains the full or partial amount from the invoice that can be reported and reimbursed.\n",
    "- **Status** – The status of the invoice – describes the stage the invoice is at until the final payment stage. \n",
    "- **Status_Update_Date** – The status update date. \n",
    "- **Note_For_Reporting** – Short notes regarding the invoice report.\n",
    "- **For_Reporting** – Is the invoice for reporting or not.\n",
    "- **Was_Reported** – Contains \"Yes\" or \"No\" for invoices that are marked for reporting.\n",
    "- **Report_date** – The report date for invoices that have been reported.\n",
    "- **Calendar Year** – The calendar year of the invoice date as shown on the document.\n",
    "- **Study_Year** – The academic year the invoice relates to.\n",
    "- **Invoice_Month** – The month of the invoice as shown on the invoice date."
   ]
  },
  {
   "cell_type": "code",
   "execution_count": 11,
   "id": "01e33e4b-73ee-4adb-add2-43a155f910f7",
   "metadata": {},
   "outputs": [
    {
     "name": "stderr",
     "output_type": "stream",
     "text": [
      "C:\\Users\\אלביליה\\AppData\\Local\\Temp\\ipykernel_14156\\2169581213.py:4: UserWarning: Could not infer format, so each element will be parsed individually, falling back to `dateutil`. To ensure parsing is consistent and as-expected, please specify a format.\n",
      "  invoices[convert_to_datetime] = invoices[convert_to_datetime].apply(pd.to_datetime)\n"
     ]
    }
   ],
   "source": [
    "# Creating a variable that contains the columns to be converted to the datetime data type:\n",
    "convert_to_datetime = ['Received_Date', 'Status_Update_Date', 'Report_date', 'Invoice_Month']\n",
    "# Conversion of the columns to the datetime data type:\n",
    "invoices[convert_to_datetime] = invoices[convert_to_datetime].apply(pd.to_datetime)"
   ]
  },
  {
   "cell_type": "code",
   "execution_count": 12,
   "id": "a36db74e-c6e1-4f82-a7fa-4277840bcf13",
   "metadata": {},
   "outputs": [],
   "source": [
    "# Adding a new column that displays the month name of each invoice:\n",
    "invoices['Month_Name'] = invoices['Invoice_Month'].dt.strftime('%B')"
   ]
  },
  {
   "cell_type": "code",
   "execution_count": 13,
   "id": "da6e92a1-f51e-4b9e-86de-e58ac516a4f5",
   "metadata": {},
   "outputs": [
    {
     "data": {
      "text/html": [
       "<div>\n",
       "<style scoped>\n",
       "    .dataframe tbody tr th:only-of-type {\n",
       "        vertical-align: middle;\n",
       "    }\n",
       "\n",
       "    .dataframe tbody tr th {\n",
       "        vertical-align: top;\n",
       "    }\n",
       "\n",
       "    .dataframe thead th {\n",
       "        text-align: right;\n",
       "    }\n",
       "</style>\n",
       "<table border=\"1\" class=\"dataframe\">\n",
       "  <thead>\n",
       "    <tr style=\"text-align: right;\">\n",
       "      <th></th>\n",
       "      <th>Invoice_ID</th>\n",
       "      <th>Pay_Channel</th>\n",
       "      <th>Oreder_ID</th>\n",
       "      <th>Payment_Request</th>\n",
       "      <th>Received_Date</th>\n",
       "      <th>Supplier_Invoice_Doc</th>\n",
       "      <th>ID_Lavy</th>\n",
       "      <th>Target</th>\n",
       "      <th>Project_ID</th>\n",
       "      <th>Sub_Project_Name</th>\n",
       "      <th>...</th>\n",
       "      <th>Status</th>\n",
       "      <th>Status_Update_Date</th>\n",
       "      <th>Note_For_Reporting</th>\n",
       "      <th>For_Reporting</th>\n",
       "      <th>Was_Reported</th>\n",
       "      <th>Report_date</th>\n",
       "      <th>Calendar Year</th>\n",
       "      <th>Study_Year</th>\n",
       "      <th>Invoice_Month</th>\n",
       "      <th>Month_Name</th>\n",
       "    </tr>\n",
       "  </thead>\n",
       "  <tbody>\n",
       "    <tr>\n",
       "      <th>130</th>\n",
       "      <td>131</td>\n",
       "      <td>לביא</td>\n",
       "      <td>36-23-408</td>\n",
       "      <td>57901123</td>\n",
       "      <td>2024-02-22</td>\n",
       "      <td>3175</td>\n",
       "      <td>790.0</td>\n",
       "      <td>ניהול ובקרה</td>\n",
       "      <td>1</td>\n",
       "      <td>ניהול ובקרה</td>\n",
       "      <td>...</td>\n",
       "      <td>עבר להנה\"ח</td>\n",
       "      <td>2024-03-05</td>\n",
       "      <td>None</td>\n",
       "      <td>לא</td>\n",
       "      <td>None</td>\n",
       "      <td>NaT</td>\n",
       "      <td>2023</td>\n",
       "      <td>תשפ\"ד</td>\n",
       "      <td>2023-11-01</td>\n",
       "      <td>November</td>\n",
       "    </tr>\n",
       "    <tr>\n",
       "      <th>345</th>\n",
       "      <td>346</td>\n",
       "      <td>לביא</td>\n",
       "      <td>36-23-408</td>\n",
       "      <td>57901123</td>\n",
       "      <td>2024-07-04</td>\n",
       "      <td>3175</td>\n",
       "      <td>790.0</td>\n",
       "      <td>ניהול ובקרה</td>\n",
       "      <td>1</td>\n",
       "      <td>ניהול ובקרה</td>\n",
       "      <td>...</td>\n",
       "      <td>עבר להנה\"ח</td>\n",
       "      <td>2024-06-26</td>\n",
       "      <td>None</td>\n",
       "      <td>לא</td>\n",
       "      <td>None</td>\n",
       "      <td>NaT</td>\n",
       "      <td>2024</td>\n",
       "      <td>תשפ\"ד</td>\n",
       "      <td>2023-11-01</td>\n",
       "      <td>November</td>\n",
       "    </tr>\n",
       "    <tr>\n",
       "      <th>397</th>\n",
       "      <td>398</td>\n",
       "      <td>לביא</td>\n",
       "      <td>36-24-227</td>\n",
       "      <td>7940624</td>\n",
       "      <td>2024-07-02</td>\n",
       "      <td>7940624</td>\n",
       "      <td>794.0</td>\n",
       "      <td>בלתי פורמלי</td>\n",
       "      <td>33</td>\n",
       "      <td>בתי ספר מנגנים</td>\n",
       "      <td>...</td>\n",
       "      <td>עבר להנה\"ח</td>\n",
       "      <td>2024-09-12</td>\n",
       "      <td>None</td>\n",
       "      <td>משרד החינוך</td>\n",
       "      <td>כן</td>\n",
       "      <td>2024-06-13</td>\n",
       "      <td>2024</td>\n",
       "      <td>תשפ\"ד</td>\n",
       "      <td>2024-06-01</td>\n",
       "      <td>June</td>\n",
       "    </tr>\n",
       "    <tr>\n",
       "      <th>437</th>\n",
       "      <td>438</td>\n",
       "      <td>לביא</td>\n",
       "      <td>None</td>\n",
       "      <td>7940624</td>\n",
       "      <td>2024-07-22</td>\n",
       "      <td>7940624</td>\n",
       "      <td>794.0</td>\n",
       "      <td>בלתי פורמלי</td>\n",
       "      <td>33</td>\n",
       "      <td>בתי ספר מנגנים</td>\n",
       "      <td>...</td>\n",
       "      <td>עבר להנה\"ח</td>\n",
       "      <td>2024-10-09</td>\n",
       "      <td>None</td>\n",
       "      <td>משרד החינוך</td>\n",
       "      <td>כן</td>\n",
       "      <td>2024-06-13</td>\n",
       "      <td>2024</td>\n",
       "      <td>תשפ\"ד</td>\n",
       "      <td>2024-06-01</td>\n",
       "      <td>June</td>\n",
       "    </tr>\n",
       "  </tbody>\n",
       "</table>\n",
       "<p>4 rows × 27 columns</p>\n",
       "</div>"
      ],
      "text/plain": [
       "     Invoice_ID Pay_Channel  Oreder_ID Payment_Request Received_Date  \\\n",
       "130         131        לביא  36-23-408        57901123    2024-02-22   \n",
       "345         346        לביא  36-23-408        57901123    2024-07-04   \n",
       "397         398        לביא  36-24-227         7940624    2024-07-02   \n",
       "437         438        לביא       None         7940624    2024-07-22   \n",
       "\n",
       "    Supplier_Invoice_Doc  ID_Lavy       Target  Project_ID Sub_Project_Name  \\\n",
       "130                 3175    790.0  ניהול ובקרה           1      ניהול ובקרה   \n",
       "345                 3175    790.0  ניהול ובקרה           1      ניהול ובקרה   \n",
       "397              7940624    794.0  בלתי פורמלי          33   בתי ספר מנגנים   \n",
       "437              7940624    794.0  בלתי פורמלי          33   בתי ספר מנגנים   \n",
       "\n",
       "     ...      Status Status_Update_Date Note_For_Reporting For_Reporting  \\\n",
       "130  ...  עבר להנה\"ח         2024-03-05               None            לא   \n",
       "345  ...  עבר להנה\"ח         2024-06-26               None            לא   \n",
       "397  ...  עבר להנה\"ח         2024-09-12               None   משרד החינוך   \n",
       "437  ...  עבר להנה\"ח         2024-10-09               None   משרד החינוך   \n",
       "\n",
       "     Was_Reported  Report_date  Calendar Year Study_Year Invoice_Month  \\\n",
       "130          None          NaT           2023      תשפ\"ד    2023-11-01   \n",
       "345          None          NaT           2024      תשפ\"ד    2023-11-01   \n",
       "397            כן   2024-06-13           2024      תשפ\"ד    2024-06-01   \n",
       "437            כן   2024-06-13           2024      תשפ\"ד    2024-06-01   \n",
       "\n",
       "    Month_Name  \n",
       "130   November  \n",
       "345   November  \n",
       "397       June  \n",
       "437       June  \n",
       "\n",
       "[4 rows x 27 columns]"
      ]
     },
     "execution_count": 13,
     "metadata": {},
     "output_type": "execute_result"
    }
   ],
   "source": [
    "# Creating a variable that contains the columns with invoice details to help check if there are duplicate invoices in the table:\n",
    "invoice_details = ['Payment_Request', 'Supplier_Invoice_Doc', 'ID_Lavy', 'Project_ID', 'Supplier_Name', 'Price_Before_Overhead']\n",
    "# Storing the duplicate rows in a new variable:\n",
    "duplicate_rows = invoices[invoices.duplicated(subset = invoice_details, keep = False)]\n",
    "# Displaying the new variable to check if there are duplicate invoices in the table:\n",
    "duplicate_rows"
   ]
  },
  {
   "cell_type": "code",
   "execution_count": 14,
   "id": "6cdd7a15-1e55-4dd3-8d9a-beb446429f51",
   "metadata": {},
   "outputs": [],
   "source": [
    "# I found that there are 2 duplicate invoices in the table\n",
    "# deleting the duplicates from the table:\n",
    "invoices = invoices.drop_duplicates(subset=invoice_details, keep='first')"
   ]
  },
  {
   "cell_type": "code",
   "execution_count": 15,
   "id": "40496c40-5ae8-42d6-b313-c9669cc8cf99",
   "metadata": {},
   "outputs": [
    {
     "name": "stderr",
     "output_type": "stream",
     "text": [
      "C:\\Users\\אלביליה\\AppData\\Local\\Temp\\ipykernel_14156\\1226013395.py:2: UserWarning: pandas only supports SQLAlchemy connectable (engine/connection) or database string URI or sqlite3 DBAPI2 connection. Other DBAPI2 objects are not tested. Please consider using SQLAlchemy.\n",
      "  Projects = pd.read_sql('select* from VW_Projects_Summary',conn)\n"
     ]
    }
   ],
   "source": [
    "# Importing a data table from SQL:\n",
    "Projects = pd.read_sql('select* from VW_Projects_Summary',conn)"
   ]
  },
  {
   "cell_type": "code",
   "execution_count": 16,
   "id": "c9ef70d7-fe0f-44b2-b7a2-1d11d2e8677d",
   "metadata": {},
   "outputs": [
    {
     "data": {
      "text/html": [
       "<div>\n",
       "<style scoped>\n",
       "    .dataframe tbody tr th:only-of-type {\n",
       "        vertical-align: middle;\n",
       "    }\n",
       "\n",
       "    .dataframe tbody tr th {\n",
       "        vertical-align: top;\n",
       "    }\n",
       "\n",
       "    .dataframe thead th {\n",
       "        text-align: right;\n",
       "    }\n",
       "</style>\n",
       "<table border=\"1\" class=\"dataframe\">\n",
       "  <thead>\n",
       "    <tr style=\"text-align: right;\">\n",
       "      <th></th>\n",
       "      <th>Project_ID</th>\n",
       "      <th>Target</th>\n",
       "      <th>Study_Year</th>\n",
       "      <th>Project_Name</th>\n",
       "      <th>Annual_Cost</th>\n",
       "      <th>Used_budget</th>\n",
       "      <th>Budget_Balance</th>\n",
       "      <th>Budgeted_By_MOEd</th>\n",
       "      <th>Not_Budgeted</th>\n",
       "      <th>Reported</th>\n",
       "      <th>Balance_To_Report</th>\n",
       "    </tr>\n",
       "  </thead>\n",
       "  <tbody>\n",
       "    <tr>\n",
       "      <th>0</th>\n",
       "      <td>1</td>\n",
       "      <td>ניהול ובקרה</td>\n",
       "      <td>תשפ\"ה</td>\n",
       "      <td>ניהול ובקרה</td>\n",
       "      <td>2,292,000.0</td>\n",
       "      <td>344,646.3</td>\n",
       "      <td>1,947,353.7</td>\n",
       "      <td>.0</td>\n",
       "      <td>2,292,000.0</td>\n",
       "      <td>18,355.3</td>\n",
       "      <td>326,291.0</td>\n",
       "    </tr>\n",
       "    <tr>\n",
       "      <th>1</th>\n",
       "      <td>2</td>\n",
       "      <td>תכנית ישראלית</td>\n",
       "      <td>תשפ\"ה</td>\n",
       "      <td>תרביה 2.0 - פיתוח הון אנושי</td>\n",
       "      <td>292,500.0</td>\n",
       "      <td>None</td>\n",
       "      <td>None</td>\n",
       "      <td>292,500.0</td>\n",
       "      <td>.0</td>\n",
       "      <td>None</td>\n",
       "      <td>None</td>\n",
       "    </tr>\n",
       "    <tr>\n",
       "      <th>2</th>\n",
       "      <td>3</td>\n",
       "      <td>תכנית ישראלית</td>\n",
       "      <td>תשפ\"ה</td>\n",
       "      <td>ליווי פדגוגי</td>\n",
       "      <td>2,350,000.0</td>\n",
       "      <td>2,544.0</td>\n",
       "      <td>2,347,456.0</td>\n",
       "      <td>2,350,000.0</td>\n",
       "      <td>.0</td>\n",
       "      <td>2,544.0</td>\n",
       "      <td>.0</td>\n",
       "    </tr>\n",
       "    <tr>\n",
       "      <th>3</th>\n",
       "      <td>4</td>\n",
       "      <td>תכנית ישראלית</td>\n",
       "      <td>תשפ\"ה</td>\n",
       "      <td>העלאת הזכאות לבגרות איכותית</td>\n",
       "      <td>500,000.0</td>\n",
       "      <td>None</td>\n",
       "      <td>None</td>\n",
       "      <td>500,000.0</td>\n",
       "      <td>.0</td>\n",
       "      <td>None</td>\n",
       "      <td>None</td>\n",
       "    </tr>\n",
       "    <tr>\n",
       "      <th>4</th>\n",
       "      <td>5</td>\n",
       "      <td>תכנית ישראלית</td>\n",
       "      <td>תשפ\"ה</td>\n",
       "      <td>תוכניות לשיפור הישגים ומיומנויות</td>\n",
       "      <td>1,500,000.0</td>\n",
       "      <td>28,908.1</td>\n",
       "      <td>1,471,091.9</td>\n",
       "      <td>1,500,000.0</td>\n",
       "      <td>.0</td>\n",
       "      <td>28,908.1</td>\n",
       "      <td>.0</td>\n",
       "    </tr>\n",
       "  </tbody>\n",
       "</table>\n",
       "</div>"
      ],
      "text/plain": [
       "   Project_ID         Target Study_Year                      Project_Name  \\\n",
       "0           1    ניהול ובקרה      תשפ\"ה                       ניהול ובקרה   \n",
       "1           2  תכנית ישראלית      תשפ\"ה       תרביה 2.0 - פיתוח הון אנושי   \n",
       "2           3  תכנית ישראלית      תשפ\"ה                      ליווי פדגוגי   \n",
       "3           4  תכנית ישראלית      תשפ\"ה      העלאת הזכאות לבגרות איכותית    \n",
       "4           5  תכנית ישראלית      תשפ\"ה  תוכניות לשיפור הישגים ומיומנויות   \n",
       "\n",
       "   Annual_Cost Used_budget Budget_Balance Budgeted_By_MOEd Not_Budgeted  \\\n",
       "0  2,292,000.0   344,646.3    1,947,353.7               .0  2,292,000.0   \n",
       "1    292,500.0        None           None        292,500.0           .0   \n",
       "2  2,350,000.0     2,544.0    2,347,456.0      2,350,000.0           .0   \n",
       "3    500,000.0        None           None        500,000.0           .0   \n",
       "4  1,500,000.0    28,908.1    1,471,091.9      1,500,000.0           .0   \n",
       "\n",
       "   Reported Balance_To_Report  \n",
       "0  18,355.3         326,291.0  \n",
       "1      None              None  \n",
       "2   2,544.0                .0  \n",
       "3      None              None  \n",
       "4  28,908.1                .0  "
      ]
     },
     "execution_count": 16,
     "metadata": {},
     "output_type": "execute_result"
    }
   ],
   "source": [
    "# Viewing the first five rows from the table:\n",
    "Projects.head(5)"
   ]
  },
  {
   "cell_type": "code",
   "execution_count": 17,
   "id": "9dcf4d06-7b74-4d80-987e-b1eb1fedfe1c",
   "metadata": {},
   "outputs": [
    {
     "name": "stdout",
     "output_type": "stream",
     "text": [
      "<class 'pandas.core.frame.DataFrame'>\n",
      "RangeIndex: 38 entries, 0 to 37\n",
      "Data columns (total 11 columns):\n",
      " #   Column             Non-Null Count  Dtype \n",
      "---  ------             --------------  ----- \n",
      " 0   Project_ID         38 non-null     int64 \n",
      " 1   Target             38 non-null     object\n",
      " 2   Study_Year         38 non-null     object\n",
      " 3   Project_Name       38 non-null     object\n",
      " 4   Annual_Cost        38 non-null     object\n",
      " 5   Used_budget        11 non-null     object\n",
      " 6   Budget_Balance     11 non-null     object\n",
      " 7   Budgeted_By_MOEd   38 non-null     object\n",
      " 8   Not_Budgeted       38 non-null     object\n",
      " 9   Reported           11 non-null     object\n",
      " 10  Balance_To_Report  11 non-null     object\n",
      "dtypes: int64(1), object(10)\n",
      "memory usage: 3.4+ KB\n"
     ]
    }
   ],
   "source": [
    "# Viewing some information about the table:\n",
    "Projects.info()"
   ]
  },
  {
   "cell_type": "markdown",
   "id": "2dc0c817-1ec5-400f-806e-466029430b65",
   "metadata": {},
   "source": [
    "**Explanation of the columns in the table**\n",
    "\n",
    "This table manages the information about the projects operated by the Jerusalem Municipality in East Jerusalem as part of the five-year plan.\\\n",
    "This table contains the following columns:\n",
    "\n",
    "- **Project_ID** – A unique ID for each project.\n",
    "- **Target** – The target in the five-year plan to which the project belongs.\n",
    "- **Study_Year** – The academic year of each project.\n",
    "- **Project_Name** – The name of the project.\n",
    "- **Annual_Cost** – The planned annual cost of the project \n",
    "- **Used_budget** – The budget spent so far out of the annual budget.\n",
    "- **Budget_Balance** – The leftover budget for execution.\n",
    "- **Budgeted_By_MOEd** – The amount budgeted by the Ministry of Education as part of the government decision.\n",
    "- **Not_Budgeted** – Amounts spent by the municipality on the program that are not part of the Ministry of Finance's budget.\n",
    "- **Reported** – The amount already reported in the current academic year.\n",
    "- **Balance_To_Report** – The amount remaining to be reported in the current academic year."
   ]
  },
  {
   "cell_type": "code",
   "execution_count": 19,
   "id": "aa6ef344-1fbd-4717-9f90-7a60dc2f2384",
   "metadata": {},
   "outputs": [],
   "source": [
    "# Creating a variable that contains the columns to be converted to the float data type:\n",
    "convert_to_float = ['Annual_Cost', 'Used_budget', 'Budget_Balance', 'Budgeted_By_MOEd', 'Not_Budgeted', 'Reported', 'Balance_To_Report']\n",
    "# Conversion of the columns to the float data type:\n",
    "for column in convert_to_float:\n",
    "    Projects[column] = Projects[column].str.replace(',', '').astype(float)"
   ]
  },
  {
   "cell_type": "code",
   "execution_count": 20,
   "id": "b89dbfcf-8df2-4f66-9ed6-cf8f9327cee5",
   "metadata": {},
   "outputs": [],
   "source": [
    "# Adding a column with the project name to the invoices table.\n",
    "# I will use the data from the Projects table based on the Project_ID column in the invoices table:\n",
    "invoices = invoices.merge(Projects[['Project_ID', 'Project_Name']], on='Project_ID', how='left') # Performing the merge."
   ]
  },
  {
   "cell_type": "code",
   "execution_count": 21,
   "id": "2773cc18-c93e-4f0a-8e70-719f573527c6",
   "metadata": {},
   "outputs": [],
   "source": [
    "# Reordering the columns so that Project_Name comes after Project_ID:\n",
    "project_id_index = invoices.columns.get_loc('Project_ID')  # Get the position of the Project_ID column\n",
    "cols = invoices.columns.tolist()  # Create a list of all the columns\n",
    "cols.remove('Project_Name') # Remove the Project_Name column from the end of the list\n",
    "cols.insert(project_id_index + 1, 'Project_Name') # Insert Project_Name right after Project_ID\n",
    "invoices = invoices[cols] # Reorder the dataframe with the new column orde"
   ]
  },
  {
   "cell_type": "code",
   "execution_count": 22,
   "id": "070962f2-90d8-4fbd-b9ce-4bcad6b5170e",
   "metadata": {},
   "outputs": [
    {
     "name": "stdout",
     "output_type": "stream",
     "text": [
      "<class 'pandas.core.frame.DataFrame'>\n",
      "RangeIndex: 594 entries, 0 to 593\n",
      "Data columns (total 28 columns):\n",
      " #   Column                   Non-Null Count  Dtype         \n",
      "---  ------                   --------------  -----         \n",
      " 0   Invoice_ID               594 non-null    int64         \n",
      " 1   Pay_Channel              594 non-null    object        \n",
      " 2   Oreder_ID                487 non-null    object        \n",
      " 3   Payment_Request          594 non-null    object        \n",
      " 4   Received_Date            594 non-null    datetime64[ns]\n",
      " 5   Supplier_Invoice_Doc     594 non-null    object        \n",
      " 6   ID_Lavy                  582 non-null    float64       \n",
      " 7   Target                   594 non-null    object        \n",
      " 8   Project_ID               594 non-null    int64         \n",
      " 9   Project_Name             594 non-null    object        \n",
      " 10  Sub_Project_Name         594 non-null    object        \n",
      " 11  Supplier_Name            594 non-null    object        \n",
      " 12  Description              594 non-null    object        \n",
      " 13  Received_From            594 non-null    object        \n",
      " 14  Salaries_Or_Activity     594 non-null    object        \n",
      " 15  Price_Before_Overhead    594 non-null    float64       \n",
      " 16  Price_Includes_Overhead  594 non-null    float64       \n",
      " 17  To_Report                594 non-null    float64       \n",
      " 18  Status                   594 non-null    object        \n",
      " 19  Status_Update_Date       594 non-null    datetime64[ns]\n",
      " 20  Note_For_Reporting       45 non-null     object        \n",
      " 21  For_Reporting            594 non-null    object        \n",
      " 22  Was_Reported             484 non-null    object        \n",
      " 23  Report_date              477 non-null    datetime64[ns]\n",
      " 24  Calendar Year            594 non-null    int64         \n",
      " 25  Study_Year               594 non-null    object        \n",
      " 26  Invoice_Month            594 non-null    datetime64[ns]\n",
      " 27  Month_Name               594 non-null    object        \n",
      "dtypes: datetime64[ns](4), float64(4), int64(3), object(17)\n",
      "memory usage: 130.1+ KB\n"
     ]
    }
   ],
   "source": [
    "# Now I will check the info of the invoices table again to make sure all the changes were successful –\n",
    "# The date conversion, removing duplicates, adding the project name column in the correct place, and adding the month name column.\n",
    "invoices.info()"
   ]
  },
  {
   "cell_type": "code",
   "execution_count": 23,
   "id": "420f7942-a668-43bb-add5-72fbdee44a91",
   "metadata": {},
   "outputs": [
    {
     "name": "stderr",
     "output_type": "stream",
     "text": [
      "C:\\Users\\אלביליה\\AppData\\Local\\Temp\\ipykernel_14156\\253423449.py:2: UserWarning: pandas only supports SQLAlchemy connectable (engine/connection) or database string URI or sqlite3 DBAPI2 connection. Other DBAPI2 objects are not tested. Please consider using SQLAlchemy.\n",
      "  work_orders = pd.read_sql('select* from VW_Work_Orders',conn)\n"
     ]
    }
   ],
   "source": [
    "# Importing a data table from SQL:\n",
    "work_orders = pd.read_sql('select* from VW_Work_Orders',conn)"
   ]
  },
  {
   "cell_type": "code",
   "execution_count": 24,
   "id": "585fa0ec-b709-4d89-bb21-b0f4ed217503",
   "metadata": {},
   "outputs": [
    {
     "data": {
      "text/html": [
       "<div>\n",
       "<style scoped>\n",
       "    .dataframe tbody tr th:only-of-type {\n",
       "        vertical-align: middle;\n",
       "    }\n",
       "\n",
       "    .dataframe tbody tr th {\n",
       "        vertical-align: top;\n",
       "    }\n",
       "\n",
       "    .dataframe thead th {\n",
       "        text-align: right;\n",
       "    }\n",
       "</style>\n",
       "<table border=\"1\" class=\"dataframe\">\n",
       "  <thead>\n",
       "    <tr style=\"text-align: right;\">\n",
       "      <th></th>\n",
       "      <th>Order_Date</th>\n",
       "      <th>Study_Year</th>\n",
       "      <th>Contract_Num</th>\n",
       "      <th>Contract_Budget</th>\n",
       "      <th>Oreder_ID</th>\n",
       "      <th>Order_Description</th>\n",
       "      <th>Supplier_Name</th>\n",
       "      <th>Supplier_ID</th>\n",
       "      <th>Budget_Section</th>\n",
       "      <th>Budget_Subsection</th>\n",
       "      <th>Order_Cost</th>\n",
       "      <th>Used_budget</th>\n",
       "      <th>Budget_Balance</th>\n",
       "      <th>Order_Status</th>\n",
       "      <th>Comments</th>\n",
       "    </tr>\n",
       "  </thead>\n",
       "  <tbody>\n",
       "    <tr>\n",
       "      <th>0</th>\n",
       "      <td>2023-10-25</td>\n",
       "      <td>תשפ\"ד</td>\n",
       "      <td>None</td>\n",
       "      <td>NaN</td>\n",
       "      <td>36-23-325</td>\n",
       "      <td>חומש תשפ\"ד</td>\n",
       "      <td>עמותת לביא</td>\n",
       "      <td>111</td>\n",
       "      <td>81679555</td>\n",
       "      <td>None</td>\n",
       "      <td>3,000,000.0</td>\n",
       "      <td>1,567,979.4</td>\n",
       "      <td>1,432,020.6</td>\n",
       "      <td>סגור</td>\n",
       "      <td>None</td>\n",
       "    </tr>\n",
       "    <tr>\n",
       "      <th>1</th>\n",
       "      <td>2023-09-01</td>\n",
       "      <td>תשפ\"ד</td>\n",
       "      <td>None</td>\n",
       "      <td>NaN</td>\n",
       "      <td>36-23-366</td>\n",
       "      <td>חומש תשפ\"ד</td>\n",
       "      <td>עמותת לביא</td>\n",
       "      <td>111</td>\n",
       "      <td>81679555</td>\n",
       "      <td>None</td>\n",
       "      <td>3,000,000.0</td>\n",
       "      <td>2,874,309.7</td>\n",
       "      <td>125,690.3</td>\n",
       "      <td>סגור</td>\n",
       "      <td>None</td>\n",
       "    </tr>\n",
       "    <tr>\n",
       "      <th>2</th>\n",
       "      <td>2023-12-18</td>\n",
       "      <td>תשפ\"ד</td>\n",
       "      <td>36-23-0003</td>\n",
       "      <td>294000.0</td>\n",
       "      <td>36-23-403</td>\n",
       "      <td>תכנית העצמה</td>\n",
       "      <td>ספק כללי בע\"מ</td>\n",
       "      <td>101</td>\n",
       "      <td>81679555</td>\n",
       "      <td>None</td>\n",
       "      <td>294,000.0</td>\n",
       "      <td>294,000.0</td>\n",
       "      <td>.0</td>\n",
       "      <td>סגור</td>\n",
       "      <td>None</td>\n",
       "    </tr>\n",
       "    <tr>\n",
       "      <th>3</th>\n",
       "      <td>2023-12-19</td>\n",
       "      <td>תשפ\"ד</td>\n",
       "      <td>36-23-0004</td>\n",
       "      <td>210800.0</td>\n",
       "      <td>36-23-405</td>\n",
       "      <td>תכנית קריאה</td>\n",
       "      <td>ספק כללי בע\"מ</td>\n",
       "      <td>101</td>\n",
       "      <td>81679555</td>\n",
       "      <td>None</td>\n",
       "      <td>210,800.0</td>\n",
       "      <td>210,160.0</td>\n",
       "      <td>640.0</td>\n",
       "      <td>פעיל</td>\n",
       "      <td>None</td>\n",
       "    </tr>\n",
       "    <tr>\n",
       "      <th>4</th>\n",
       "      <td>2023-12-24</td>\n",
       "      <td>תשפ\"ד</td>\n",
       "      <td>None</td>\n",
       "      <td>9000000.0</td>\n",
       "      <td>36-23-408</td>\n",
       "      <td>חומש מזרח ירושלים</td>\n",
       "      <td>עמותת לביא</td>\n",
       "      <td>111</td>\n",
       "      <td>81679555</td>\n",
       "      <td>None</td>\n",
       "      <td>9,000,000.0</td>\n",
       "      <td>9,041,885.1</td>\n",
       "      <td>-41,885.1</td>\n",
       "      <td>סגור</td>\n",
       "      <td>None</td>\n",
       "    </tr>\n",
       "  </tbody>\n",
       "</table>\n",
       "</div>"
      ],
      "text/plain": [
       "   Order_Date Study_Year Contract_Num  Contract_Budget  Oreder_ID  \\\n",
       "0  2023-10-25      תשפ\"ד         None              NaN  36-23-325   \n",
       "1  2023-09-01      תשפ\"ד         None              NaN  36-23-366   \n",
       "2  2023-12-18      תשפ\"ד   36-23-0003         294000.0  36-23-403   \n",
       "3  2023-12-19      תשפ\"ד   36-23-0004         210800.0  36-23-405   \n",
       "4  2023-12-24      תשפ\"ד         None        9000000.0  36-23-408   \n",
       "\n",
       "   Order_Description  Supplier_Name  Supplier_ID  Budget_Section  \\\n",
       "0         חומש תשפ\"ד     עמותת לביא          111        81679555   \n",
       "1         חומש תשפ\"ד     עמותת לביא          111        81679555   \n",
       "2        תכנית העצמה  ספק כללי בע\"מ          101        81679555   \n",
       "3        תכנית קריאה  ספק כללי בע\"מ          101        81679555   \n",
       "4  חומש מזרח ירושלים     עמותת לביא          111        81679555   \n",
       "\n",
       "  Budget_Subsection   Order_Cost  Used_budget Budget_Balance Order_Status  \\\n",
       "0              None  3,000,000.0  1,567,979.4    1,432,020.6         סגור   \n",
       "1              None  3,000,000.0  2,874,309.7      125,690.3         סגור   \n",
       "2              None    294,000.0    294,000.0             .0         סגור   \n",
       "3              None    210,800.0    210,160.0          640.0         פעיל   \n",
       "4              None  9,000,000.0  9,041,885.1      -41,885.1         סגור   \n",
       "\n",
       "  Comments  \n",
       "0     None  \n",
       "1     None  \n",
       "2     None  \n",
       "3     None  \n",
       "4     None  "
      ]
     },
     "execution_count": 24,
     "metadata": {},
     "output_type": "execute_result"
    }
   ],
   "source": [
    "# Viewing the first five rows from the table:\n",
    "work_orders.head(5)"
   ]
  },
  {
   "cell_type": "code",
   "execution_count": 25,
   "id": "d8c72202-529c-464f-9dd8-56ecd5a62a8c",
   "metadata": {},
   "outputs": [
    {
     "name": "stdout",
     "output_type": "stream",
     "text": [
      "<class 'pandas.core.frame.DataFrame'>\n",
      "RangeIndex: 17 entries, 0 to 16\n",
      "Data columns (total 15 columns):\n",
      " #   Column             Non-Null Count  Dtype  \n",
      "---  ------             --------------  -----  \n",
      " 0   Order_Date         17 non-null     object \n",
      " 1   Study_Year         17 non-null     object \n",
      " 2   Contract_Num       10 non-null     object \n",
      " 3   Contract_Budget    13 non-null     float64\n",
      " 4   Oreder_ID          17 non-null     object \n",
      " 5   Order_Description  17 non-null     object \n",
      " 6   Supplier_Name      17 non-null     object \n",
      " 7   Supplier_ID        17 non-null     int64  \n",
      " 8   Budget_Section     17 non-null     int64  \n",
      " 9   Budget_Subsection  0 non-null      object \n",
      " 10  Order_Cost         17 non-null     object \n",
      " 11  Used_budget        17 non-null     object \n",
      " 12  Budget_Balance     17 non-null     object \n",
      " 13  Order_Status       17 non-null     object \n",
      " 14  Comments           0 non-null      object \n",
      "dtypes: float64(1), int64(2), object(12)\n",
      "memory usage: 2.1+ KB\n"
     ]
    }
   ],
   "source": [
    "# Viewing some information about the table:\n",
    "work_orders.info()"
   ]
  },
  {
   "cell_type": "markdown",
   "id": "0de3d641-5c3e-4107-b834-f6624666becb",
   "metadata": {},
   "source": [
    "**Explanation of the columns in the table**\n",
    "\n",
    "All payments must be made from a work order that exists in the municipal finance system.\n",
    "Some orders are based on a municipal contract, and payments are made directly to the supplier.\n",
    "Other orders are for the Lavy Association, and payments are made based on different projects in the association.\\\n",
    "This table contains the following columns:\n",
    "\n",
    "- **Order_Date:** The date the order was created in the financial system.\n",
    "- **Study_Year:** The academic year for the order.\n",
    "- **Contract_Num:** The contract number.\n",
    "- **Contract_Budget:** The total budget for the contract.\n",
    "- **Order_ID:** The work order number in the financial system.\n",
    "- **Order_Description:** A short description of the order.\n",
    "- **Supplier_Name:** The name of the supplier for the order.\n",
    "- **Supplier_Id:** The supplier ID.\n",
    "- **Budget_Section:** The budget section the order is taken from.\n",
    "- **Budget_Subsection:** The budget subsection, if there is one.\n",
    "- **Order_Cost:** The cost of the order.\n",
    "- **Used_budget:** The amount used from the order.\n",
    "- **Budget_Balance:** The remaining amount from the order.\n",
    "- **Order_Status:** The status of the order.\n",
    "- **Comments:** Notes related to the order."
   ]
  },
  {
   "cell_type": "code",
   "execution_count": 27,
   "id": "f5c380f5-16d7-4728-8af6-b7d8ab5de3ab",
   "metadata": {},
   "outputs": [],
   "source": [
    "# Creating a variable that contains the columns to be converted to the float data type:\n",
    "convert_to_float = ['Order_Cost', 'Used_budget', 'Budget_Balance']\n",
    "# Conversion of the columns to the float data type:\n",
    "for column in convert_to_float:\n",
    "    work_orders[column] = work_orders[column].str.replace(',', '').astype(float)"
   ]
  },
  {
   "cell_type": "markdown",
   "id": "f17e40c3-234b-41c8-b602-9bbac54c3447",
   "metadata": {},
   "source": [
    "I finished importing the tables I will need to answer my questions.\\\n",
    "The database HOMESH_880 is the one I created in the first project in SQL.\\\n",
    "I set many validations there, so the data is clean, and I didn't need to do much data cleaning, except for some data type conversions and removing duplicates.\n",
    "\n",
    "Now, we can move on to the analysis stage."
   ]
  },
  {
   "cell_type": "markdown",
   "id": "43755a39-19ce-4865-98ea-ab21192c16fb",
   "metadata": {},
   "source": [
    "## PART 3- Descriptive Statistics\n",
    "Now, I will show some basic statistics about the tables I imported:"
   ]
  },
  {
   "cell_type": "markdown",
   "id": "7401569b-68d2-4e9b-9ac7-4fb5866b45d4",
   "metadata": {},
   "source": [
    "**invoices by their status:**"
   ]
  },
  {
   "cell_type": "code",
   "execution_count": 31,
   "id": "a99ff37c-cbb1-46fe-9324-b77be341f558",
   "metadata": {},
   "outputs": [
    {
     "data": {
      "text/html": [
       "<div>\n",
       "<style scoped>\n",
       "    .dataframe tbody tr th:only-of-type {\n",
       "        vertical-align: middle;\n",
       "    }\n",
       "\n",
       "    .dataframe tbody tr th {\n",
       "        vertical-align: top;\n",
       "    }\n",
       "\n",
       "    .dataframe thead th {\n",
       "        text-align: right;\n",
       "    }\n",
       "</style>\n",
       "<table border=\"1\" class=\"dataframe\">\n",
       "  <thead>\n",
       "    <tr style=\"text-align: right;\">\n",
       "      <th></th>\n",
       "      <th>count</th>\n",
       "    </tr>\n",
       "    <tr>\n",
       "      <th>Status</th>\n",
       "      <th></th>\n",
       "    </tr>\n",
       "  </thead>\n",
       "  <tbody>\n",
       "    <tr>\n",
       "      <th>עבר להנה\"ח</th>\n",
       "      <td>488</td>\n",
       "    </tr>\n",
       "    <tr>\n",
       "      <th>בקשת תשלום</th>\n",
       "      <td>104</td>\n",
       "    </tr>\n",
       "    <tr>\n",
       "      <th>על חשבון הכנסות אחרות</th>\n",
       "      <td>1</td>\n",
       "    </tr>\n",
       "    <tr>\n",
       "      <th>בחתימות</th>\n",
       "      <td>1</td>\n",
       "    </tr>\n",
       "  </tbody>\n",
       "</table>\n",
       "</div>"
      ],
      "text/plain": [
       "                       count\n",
       "Status                      \n",
       "עבר להנה\"ח               488\n",
       "בקשת תשלום               104\n",
       "על חשבון הכנסות אחרות      1\n",
       "בחתימות                    1"
      ]
     },
     "execution_count": 31,
     "metadata": {},
     "output_type": "execute_result"
    }
   ],
   "source": [
    "invoices['Status'].value_counts().to_frame()"
   ]
  },
  {
   "cell_type": "markdown",
   "id": "a78223fe-e7b5-4035-8549-22df6a50a000",
   "metadata": {},
   "source": [
    "**The 10 managers who submit the most invoices for payment:**"
   ]
  },
  {
   "cell_type": "code",
   "execution_count": 33,
   "id": "d575400f-dc0d-41f1-967d-01a8ecf6138d",
   "metadata": {},
   "outputs": [
    {
     "data": {
      "text/html": [
       "<div>\n",
       "<style scoped>\n",
       "    .dataframe tbody tr th:only-of-type {\n",
       "        vertical-align: middle;\n",
       "    }\n",
       "\n",
       "    .dataframe tbody tr th {\n",
       "        vertical-align: top;\n",
       "    }\n",
       "\n",
       "    .dataframe thead th {\n",
       "        text-align: right;\n",
       "    }\n",
       "</style>\n",
       "<table border=\"1\" class=\"dataframe\">\n",
       "  <thead>\n",
       "    <tr style=\"text-align: right;\">\n",
       "      <th></th>\n",
       "      <th>count</th>\n",
       "    </tr>\n",
       "    <tr>\n",
       "      <th>Received_From</th>\n",
       "      <th></th>\n",
       "    </tr>\n",
       "  </thead>\n",
       "  <tbody>\n",
       "    <tr>\n",
       "      <th>לביא</th>\n",
       "      <td>144</td>\n",
       "    </tr>\n",
       "    <tr>\n",
       "      <th>אריג</th>\n",
       "      <td>65</td>\n",
       "    </tr>\n",
       "    <tr>\n",
       "      <th>רנא</th>\n",
       "      <td>59</td>\n",
       "    </tr>\n",
       "    <tr>\n",
       "      <th>בתיה</th>\n",
       "      <td>57</td>\n",
       "    </tr>\n",
       "    <tr>\n",
       "      <th>עבד</th>\n",
       "      <td>44</td>\n",
       "    </tr>\n",
       "    <tr>\n",
       "      <th>עאידה</th>\n",
       "      <td>31</td>\n",
       "    </tr>\n",
       "    <tr>\n",
       "      <th>אחמד</th>\n",
       "      <td>29</td>\n",
       "    </tr>\n",
       "    <tr>\n",
       "      <th>מנון</th>\n",
       "      <td>22</td>\n",
       "    </tr>\n",
       "    <tr>\n",
       "      <th>הראל</th>\n",
       "      <td>16</td>\n",
       "    </tr>\n",
       "    <tr>\n",
       "      <th>ברק</th>\n",
       "      <td>13</td>\n",
       "    </tr>\n",
       "  </tbody>\n",
       "</table>\n",
       "</div>"
      ],
      "text/plain": [
       "               count\n",
       "Received_From       \n",
       "לביא             144\n",
       "אריג              65\n",
       "רנא               59\n",
       "בתיה              57\n",
       "עבד               44\n",
       "עאידה             31\n",
       "אחמד              29\n",
       "מנון              22\n",
       "הראל              16\n",
       "ברק               13"
      ]
     },
     "execution_count": 33,
     "metadata": {},
     "output_type": "execute_result"
    }
   ],
   "source": [
    "invoices['Received_From'].value_counts().to_frame().head(10)"
   ]
  },
  {
   "cell_type": "markdown",
   "id": "db8e4ea3-00a5-4772-8f52-420a48c0ccf5",
   "metadata": {},
   "source": [
    "**Calculating the average number of days between submitting an invoice to the municipality and its payment.**\\\n",
    "The municipality commits to paying within 60 days.\\\n",
    "I want to ensure that we are meeting the deadlines:"
   ]
  },
  {
   "cell_type": "code",
   "execution_count": 35,
   "id": "e801b04f-abab-4965-929f-608a1a0d17db",
   "metadata": {},
   "outputs": [
    {
     "name": "stdout",
     "output_type": "stream",
     "text": [
      "Average days from invoice submission to payment is: 50 days\n"
     ]
    },
    {
     "name": "stderr",
     "output_type": "stream",
     "text": [
      "C:\\Users\\אלביליה\\AppData\\Local\\Temp\\ipykernel_14156\\4153120353.py:5: SettingWithCopyWarning: \n",
      "A value is trying to be set on a copy of a slice from a DataFrame.\n",
      "Try using .loc[row_indexer,col_indexer] = value instead\n",
      "\n",
      "See the caveats in the documentation: https://pandas.pydata.org/pandas-docs/stable/user_guide/indexing.html#returning-a-view-versus-a-copy\n",
      "  paid_invoices['Days_To_Status_Update'] = (paid_invoices['Status_Update_Date'] - paid_invoices['Received_Date']).dt.days\n"
     ]
    }
   ],
   "source": [
    "# Filter invoices that have been paid (status is \"עבר להנה\"ח\"):\n",
    "paid_invoices = invoices[invoices['Status'] == 'עבר להנה\"ח']\n",
    "\n",
    "# Calculate the number of days between submitting the invoice and the status update indicating the invoice is paid:\n",
    "paid_invoices['Days_To_Status_Update'] = (paid_invoices['Status_Update_Date'] - paid_invoices['Received_Date']).dt.days\n",
    "\n",
    "# Calculate the average number of days:\n",
    "average_days_to_status_update = paid_invoices['Days_To_Status_Update'].mean()\n",
    "\n",
    "# Display the average:\n",
    "print(f\"Average days from invoice submission to payment is: {round(average_days_to_status_update)} days\")\n"
   ]
  },
  {
   "cell_type": "markdown",
   "id": "9e39100b-d795-4b7a-a534-0a2c0458ab73",
   "metadata": {},
   "source": [
    "The average result is 50 days from the invoice submission to payment.\\\n",
    "The conclusion is that the municipality is meeting the payment deadlines."
   ]
  },
  {
   "cell_type": "markdown",
   "id": "7ae79d52-e55b-49c6-9eaa-38f337996537",
   "metadata": {},
   "source": [
    "**Statistics on the annual budget:**"
   ]
  },
  {
   "cell_type": "code",
   "execution_count": 38,
   "id": "6cfc1ede-bcbd-4ee6-9d46-d1cace1a116c",
   "metadata": {},
   "outputs": [
    {
     "name": "stderr",
     "output_type": "stream",
     "text": [
      "C:\\Users\\אלביליה\\AppData\\Local\\Temp\\ipykernel_14156\\710579840.py:3: FutureWarning: DataFrame.applymap has been deprecated. Use DataFrame.map instead.\n",
      "  projects_description = projects_description.applymap(lambda x: f\"{x:,.0f}\")\n"
     ]
    },
    {
     "data": {
      "text/html": [
       "<div>\n",
       "<style scoped>\n",
       "    .dataframe tbody tr th:only-of-type {\n",
       "        vertical-align: middle;\n",
       "    }\n",
       "\n",
       "    .dataframe tbody tr th {\n",
       "        vertical-align: top;\n",
       "    }\n",
       "\n",
       "    .dataframe thead th {\n",
       "        text-align: right;\n",
       "    }\n",
       "</style>\n",
       "<table border=\"1\" class=\"dataframe\">\n",
       "  <thead>\n",
       "    <tr style=\"text-align: right;\">\n",
       "      <th></th>\n",
       "      <th>Annual_Cost</th>\n",
       "    </tr>\n",
       "  </thead>\n",
       "  <tbody>\n",
       "    <tr>\n",
       "      <th>count</th>\n",
       "      <td>38</td>\n",
       "    </tr>\n",
       "    <tr>\n",
       "      <th>mean</th>\n",
       "      <td>2,173,503</td>\n",
       "    </tr>\n",
       "    <tr>\n",
       "      <th>std</th>\n",
       "      <td>3,235,156</td>\n",
       "    </tr>\n",
       "    <tr>\n",
       "      <th>min</th>\n",
       "      <td>20,000</td>\n",
       "    </tr>\n",
       "    <tr>\n",
       "      <th>25%</th>\n",
       "      <td>420,000</td>\n",
       "    </tr>\n",
       "    <tr>\n",
       "      <th>50%</th>\n",
       "      <td>1,000,000</td>\n",
       "    </tr>\n",
       "    <tr>\n",
       "      <th>75%</th>\n",
       "      <td>2,000,000</td>\n",
       "    </tr>\n",
       "    <tr>\n",
       "      <th>max</th>\n",
       "      <td>12,000,000</td>\n",
       "    </tr>\n",
       "  </tbody>\n",
       "</table>\n",
       "</div>"
      ],
      "text/plain": [
       "      Annual_Cost\n",
       "count          38\n",
       "mean    2,173,503\n",
       "std     3,235,156\n",
       "min        20,000\n",
       "25%       420,000\n",
       "50%     1,000,000\n",
       "75%     2,000,000\n",
       "max    12,000,000"
      ]
     },
     "execution_count": 38,
     "metadata": {},
     "output_type": "execute_result"
    }
   ],
   "source": [
    "projects_description = Projects['Annual_Cost'].describe().to_frame()\n",
    "# Apply formatting to the description DataFrame:\n",
    "projects_description = projects_description.applymap(lambda x: f\"{x:,.0f}\")\n",
    "\n",
    "# Display the result\n",
    "projects_description"
   ]
  },
  {
   "cell_type": "markdown",
   "id": "074ee561-e3cc-4c6b-a15b-7c40aabfc39e",
   "metadata": {},
   "source": [
    "In the current academic year, there are a total of 38 projects.\\\n",
    "The **average** cost for each project is 2,173,503.\\\n",
    "The **most expensive** project costs 12,000,000.\\\n",
    "The **cheapest** project costs 20,000.\\\n",
    "Half of the projects cost less than 1,000,000."
   ]
  },
  {
   "cell_type": "markdown",
   "id": "651f0011-21e5-4485-bfdc-56be0cc6b835",
   "metadata": {},
   "source": [
    "## PART 4- Aggregations and visualizations\n",
    "Now I have the data and I can start answering the questions I presented in the first part of the project.\\\n",
    "As I said before, the database contains data for only a year and a half, and there is no data for several years to do research and make conclusions based on data.\\\n",
    "So, I chose to focus mainly on operational questions that relate to the current situation and can help improve the work from now on."
   ]
  },
  {
   "cell_type": "markdown",
   "id": "cecd2fba-a115-46d1-bb7d-fc242aa6eae8",
   "metadata": {},
   "source": [
    "### **Question number 1:**\n",
    "What percentage of our expenses is spent on employee salaries and supplier activities for each project?"
   ]
  },
  {
   "cell_type": "code",
   "execution_count": 42,
   "id": "a8d63ab6-61d3-4bd3-b2e5-d0c60e753fe9",
   "metadata": {},
   "outputs": [
    {
     "data": {
      "image/png": "[encoded data removed]",
      "text/plain": [
       "<Figure size 1000x500 with 1 Axes>"
      ]
     },
     "metadata": {},
     "output_type": "display_data"
    }
   ],
   "source": [
    "# I had difficulty displaying the target names in Hebrew correctly, so I will create a helper column that contains the target names in reverse order,\n",
    "# so that when the chart is created, they will be displayed correctly:\n",
    "invoices['Target_Reversed'] = invoices['Target'].str[::-1]\n",
    "\n",
    "# Summing up salary and activity expenses by target:\n",
    "df_merged = invoices.groupby(['Target_Reversed', 'Salaries_Or_Activity'])['Price_Includes_Overhead'].sum().unstack(fill_value=0)\n",
    "\n",
    "# Calculating the percentages of salary and activity expenses:\n",
    "df_merged['Salaries_Percentage'] = (df_merged['שכר'] / (df_merged['שכר'] + df_merged['פעילות'])) * 100\n",
    "df_merged['Activity_Percentage'] = (df_merged['פעילות'] / (df_merged['שכר'] + df_merged['פעילות'])) * 100\n",
    "\n",
    "# Creating a bar chart:\n",
    "df_merged[['Salaries_Percentage', 'Activity_Percentage']].plot(kind='bar', stacked=False, color=['lightblue', 'purple'], figsize=(10, 5))\n",
    "\n",
    "# Setting titles and labels:\n",
    "plt.title('Percentage of Expenses on Salaries and Activity per Target')\n",
    "plt.xlabel('')\n",
    "plt.ylabel('Percentage (%)')\n",
    "plt.legend(labels=['רכש', 'תוליעפ'], loc='upper right') \n",
    "plt.xticks(rotation=45, ha='right')\n",
    "plt.tight_layout()\n",
    "plt.show()"
   ]
  },
  {
   "cell_type": "markdown",
   "id": "e0b61c06-ffdb-449f-91c9-c3be52f8f0dd",
   "metadata": {},
   "source": [
    "It can be seen that for the targets \"טיפול בפרט ומניעת נשירה\" and \"ניהול ובקרה\", over 90% of the expenses are for salaries, with little spent on activities.\\\n",
    "In contrast, in the \"תכנית ישראלית\" about 90% of the expenses are for activities, not salaries.\\\n",
    "For the other targets, there are expenses for both- salaries and activities, but still, more is spent on activities than on salaries"
   ]
  },
  {
   "cell_type": "markdown",
   "id": "133393e7-fc7e-4e6c-8cd0-ef828a898d61",
   "metadata": {},
   "source": [
    "### **Question number 2:**\n",
    "Which months have the highest expenses, when we will need more cash flow?"
   ]
  },
  {
   "cell_type": "code",
   "execution_count": 45,
   "id": "09aa60ae-cc77-40d0-a6f8-cb202e1dced7",
   "metadata": {},
   "outputs": [
    {
     "data": {
      "image/png": "[encoded data removed]",
      "text/plain": [
       "<Figure size 1000x400 with 2 Axes>"
      ]
     },
     "metadata": {},
     "output_type": "display_data"
    }
   ],
   "source": [
    "# To answer this question, I will analyze the data for the academic year תשפ\"ד only, as this is the complete year available in the data.\n",
    "df_filtered = invoices[invoices['Study_Year'] == 'תשפ\"ד']\n",
    "\n",
    "#Since the amounts in the data are large, I will create a format to display millions as thousands:\n",
    "from matplotlib.ticker import FuncFormatter\n",
    "format_y = FuncFormatter(lambda x, pos: '{:,.0f}K'.format(x / 1000))\n",
    "\n",
    "# Defining the order of months according to the academic year - the first month is September:\n",
    "month_order = ['September', 'October', 'November', 'December', 'January', 'February', 'March', 'April', 'May', 'June', 'July', 'August']\n",
    "\n",
    "# Calculating the total expenses for each month:\n",
    "monthly_expenses = df_filtered.groupby('Month_Name')['Price_Includes_Overhead'].sum()\n",
    "\n",
    "# Sorting the monthly_expenses DataFrame according to the academic year's month order:\n",
    "monthly_expenses = monthly_expenses[month_order]\n",
    "\n",
    "# Creating a heatmap:\n",
    "plt.figure(figsize=(10, 4))\n",
    "heatmap = sb.heatmap([monthly_expenses], annot=False, cmap='Blues', cbar_kws={'label': 'Total Expenses (in NIS)'},\n",
    "                     linewidths=0.5, xticklabels=monthly_expenses.index, yticklabels=[])\n",
    "\n",
    "# Adding title and labels\n",
    "plt.title('Monthly Expenses for Study Year תשפ\"ד')\n",
    "plt.xlabel('')\n",
    "plt.xticks(rotation=45)\n",
    "colorbar = heatmap.collections[0].colorbar\n",
    "colorbar.ax.yaxis.set_major_formatter(format_y)\n",
    "plt.tight_layout()\n",
    "plt.show()\n"
   ]
  },
  {
   "cell_type": "markdown",
   "id": "e8528500-cd10-4274-94dd-7eb1121eb2f6",
   "metadata": {},
   "source": [
    "From the chart, it is clear that the month with the highest expenses is July. March and June also have high expenses compared to the other months of the year.\\\n",
    "The months with the lowest expenses are the first three months of the year.\\\n",
    "To learn more about the cash flow needs throughout the year, I will present the total expenses split into salaries and activities:"
   ]
  },
  {
   "cell_type": "code",
   "execution_count": 47,
   "id": "00282e77-6ea7-45c9-bf29-24776c7406a4",
   "metadata": {
    "scrolled": true
   },
   "outputs": [
    {
     "data": {
      "image/png": "[encoded data removed]",
      "text/plain": [
       "<Figure size 1000x500 with 1 Axes>"
      ]
     },
     "metadata": {},
     "output_type": "display_data"
    }
   ],
   "source": [
    "# Calculation of all salary expenses for each month:\n",
    "salaries_expenses = df_filtered[df_filtered['Salaries_Or_Activity'] == 'שכר'].groupby('Month_Name')['Price_Includes_Overhead'].sum()\n",
    "\n",
    "# Calculation of all activity expenses for each month:\n",
    "activity_expenses = df_filtered[df_filtered['Salaries_Or_Activity'] == 'פעילות'].groupby('Month_Name')['Price_Includes_Overhead'].sum()\n",
    "\n",
    "# Sorting the monthly_expenses DataFrame according to the academic year's month order:\n",
    "salaries_expenses = salaries_expenses[month_order]\n",
    "activity_expenses = activity_expenses[month_order]\n",
    "\n",
    "# Creating a chart with two lines - one for salaries and one for activity:\n",
    "plt.figure(figsize=(10, 5)) \n",
    "plt.plot(salaries_expenses.index, salaries_expenses, marker='o', color='skyblue', label='Salaries')\n",
    "plt.plot(activity_expenses.index, activity_expenses, marker='o', color='lightgreen', label='Activity')\n",
    "\n",
    "# Setting titles and labels:\n",
    "plt.title('Monthly Expenses for Study Year ד\"פשת')\n",
    "plt.xlabel('')\n",
    "plt.ylabel('Total Expenses')\n",
    "plt.gca().yaxis.set_major_formatter(format_y) # Defining the format for the Y-axis\n",
    "plt.xticks(rotation=45)\n",
    "plt.legend(labels=['רכש', 'תוליעפ'],loc='upper left')\n",
    "plt.tight_layout()\n",
    "plt.show()"
   ]
  },
  {
   "cell_type": "markdown",
   "id": "a3437de1-9f92-48d0-9e63-d9f7c27df8c5",
   "metadata": {},
   "source": [
    "From the blue line, which represents the salary expenses, we can see that there are no major changes throughout the year.\\\n",
    "The only month with an increase in expenses is June. The reason for this is the payment of vacation pay to employees, which is paid every year in June.\n",
    "\n",
    "From the green line, which represents the activity expenses, we can see that there are changes throughout the year.\\\n",
    "It is clear that in the first three months of the year, there are very few activity expenses, It probably takes time for all the activities to start.\\\n",
    "In December, there is a small increase because it's the end of the first quarter of the academic year, most activities have already started and there are suppliers who need to be paid their first payment of the year.\n",
    "In March, there is a noticeable rise because Ramadan happened this month in this academic year. This explains the increase in expenses. It is important to remember that Ramadan doesn't always fall on the same dates each year, so the need for cash flow in March depends on when Ramadan happens.\n",
    "The highest expenses appear at the end of the year, in June and July, at the start of the summer break. There are summer camps, activities, and final payments to suppliers for the past year."
   ]
  },
  {
   "cell_type": "markdown",
   "id": "54eb2ee9-4797-4d5f-af7f-95c7d0497935",
   "metadata": {},
   "source": [
    "### **Question number 3:**\n",
    "Which project managers submit invoices on time and which ones need to improve?"
   ]
  },
  {
   "cell_type": "code",
   "execution_count": 50,
   "id": "1bcd38e1-7844-4a6c-9a1d-31f726918634",
   "metadata": {},
   "outputs": [
    {
     "name": "stderr",
     "output_type": "stream",
     "text": [
      "C:\\Users\\אלביליה\\AppData\\Local\\Temp\\ipykernel_14156\\822706441.py:26: UserWarning: No artists with labels found to put in legend.  Note that artists whose label start with an underscore are ignored when legend() is called with no argument.\n",
      "  plt.legend().set_visible(False)\n"
     ]
    },
    {
     "data": {
      "image/png": "[encoded data removed]",
      "text/plain": [
       "<Figure size 1200x500 with 1 Axes>"
      ]
     },
     "metadata": {},
     "output_type": "display_data"
    }
   ],
   "source": [
    "# Creating a column that calculates the difference in days between the invoice submission date and the invoice month:\n",
    "invoices['Days_Difference'] = (invoices['Received_Date'] - invoices['Invoice_Month']).dt.days\n",
    "\n",
    "# Data filtering: Show only invoices submitted after 40 days, but not more than 180 days:\n",
    "invoices_filtered = invoices[(invoices['Days_Difference'] >= 40) & (invoices['Days_Difference'] <= 180)]\n",
    "\n",
    "# Filtering out בתיה, לביא, and מנון because they submit their invoices according to our request, based on the cash flow:\n",
    "invoices_filtered = invoices_filtered[~invoices_filtered['Received_From'].isin(['בתיה', 'לביא', 'מנון'])]\n",
    "\n",
    "# Creating a helper column here as well, that contains the \"Received_From\" names in reverse order,\n",
    "# so that when the chart is created, they will be displayed correctly:\n",
    "invoices_filtered['Reversed_Received_From'] = invoices_filtered['Received_From'].str[::-1]\n",
    "\n",
    "# Creating a scatter plot:\n",
    "plt.figure(figsize=(12, 5))\n",
    "sb.scatterplot(data=invoices_filtered, x='Reversed_Received_From', y='Days_Difference', hue='Reversed_Received_From', palette='Set2', legend=None)\n",
    "\n",
    "# Set the Y-axis so that the numbers start from 40 with intervals of 20:\n",
    "plt.yticks(range(40, 181, 20))\n",
    "\n",
    "# Setting titles and labels:\n",
    "plt.title('Invoices Submitted Late')\n",
    "plt.xlabel('Manager name')\n",
    "plt.ylabel('Number of days late')\n",
    "plt.xticks(rotation=45, ha='right') \n",
    "plt.legend().set_visible(False)\n",
    "plt.tight_layout()\n",
    "plt.show()"
   ]
  },
  {
   "cell_type": "markdown",
   "id": "881154b1-5232-4a44-8f2e-4378f6dc6aa1",
   "metadata": {},
   "source": [
    "From the chart, it is clear that most of the managers submit their invoices on time.\\\n",
    "However, there are a few managers who need to improve – Rana, Abed and Arij."
   ]
  },
  {
   "cell_type": "markdown",
   "id": "505eaf37-7be6-4aa7-b96a-ab6ab43148aa",
   "metadata": {},
   "source": [
    "### **Question number 4:**\n",
    "How much cash do we currently have in work orders compared to the invoices we need to pay?"
   ]
  },
  {
   "cell_type": "code",
   "execution_count": 53,
   "id": "acbbdf1b-cd45-47ea-af16-4cf128df31da",
   "metadata": {},
   "outputs": [
    {
     "data": {
      "image/png": "[encoded data removed]",
      "text/plain": [
       "<Figure size 400x400 with 1 Axes>"
      ]
     },
     "metadata": {},
     "output_type": "display_data"
    }
   ],
   "source": [
    "# Filtering the invoices that have not been paid (status different from \"עבר להנה\"ח\" and \"בחתימות\"):\n",
    "unpaid_invoices = invoices[~invoices['Status'].isin(['עבר להנה\"ח', 'בחתימות'])]\n",
    "\n",
    "# Summing the total amounts of the unpaid invoices:\n",
    "unpaid_invoices_total = unpaid_invoices['Price_Includes_Overhead'].sum()\n",
    "\n",
    "# Summing the remaining budget from the work orders:\n",
    "available_budget = work_orders['Budget_Balance'].sum()\n",
    "\n",
    "# Creating a bar chart:\n",
    "plt.figure(figsize=(4, 4))\n",
    "bars= plt.bar(['Available Budget', 'Unpaid Invoices'], [available_budget, unpaid_invoices_total], color=['#66c28f', '#ff9999'])\n",
    "\n",
    "# Adding the amounts as text inside each bar:\n",
    "for bar in bars:\n",
    "    height = bar.get_height()\n",
    "    formatted_height = format_y(height) \n",
    "    plt.text(bar.get_x() + bar.get_width() / 2, height / 2, formatted_height, ha='center')\n",
    "    \n",
    "# Setting titles and labels:\n",
    "plt.title('Available Budget vs. Unpaid Invoices')\n",
    "plt.ylabel('Amount')\n",
    "plt.gca().yaxis.set_major_formatter(format_y) # Defining the format for the Y-axis\n",
    "plt.tight_layout()\n",
    "plt.show()"
   ]
  },
  {
   "cell_type": "markdown",
   "id": "73ccda2e-2283-48a2-8f41-cd3b66932b05",
   "metadata": {},
   "source": [
    "It can be seen from the chart that there is currently a total of 8,838K NIS that need to be paid.\\\n",
    "In the work orders, there is an available amount of 10,661K NIS.\\\n",
    "There is enough money to pay the existing invoices, but it is best to open another work order soon because less than two million NIS are remaining"
   ]
  },
  {
   "cell_type": "markdown",
   "id": "c577351f-d4fc-4e06-adfd-58a76696398e",
   "metadata": {},
   "source": [
    "### **Question number 5:**\n",
    "How much of the total annual cost of the entire program in the current academic year is funded by the Ministry of Education, and how much is covered by the Jerusalem Municipality?\n",
    "\n",
    "I will present this data both as percentages and in amounts:"
   ]
  },
  {
   "cell_type": "code",
   "execution_count": 56,
   "id": "4619b6f4-371f-416b-95be-cbb4a60c0984",
   "metadata": {},
   "outputs": [
    {
     "data": {
      "image/png": "[encoded data removed]",
      "text/plain": [
       "<Figure size 1000x500 with 2 Axes>"
      ]
     },
     "metadata": {},
     "output_type": "display_data"
    }
   ],
   "source": [
    "# Calculating the annual cost of all projects, the part funded by the Ministry of Education, and the part not funded:\n",
    "total_annual_cost = Projects['Annual_Cost'].sum()\n",
    "budgeted_by_moed = Projects['Budgeted_By_MOEd'].sum()\n",
    "not_budgeted = Projects['Not_Budgeted'].sum()\n",
    "\n",
    "# Creating a canvas with 2 charts:\n",
    "fig = plt.figure(figsize=(10, 5)) \n",
    "Budget = fig.subplots(1, 2)\n",
    "\n",
    "# Pie chart 1 - Percentage Distribution:\n",
    "colors= ['lightblue', '#FFB6C1']\n",
    "values= [budgeted_by_moed, not_budgeted]\n",
    "Budget[0].pie(values, autopct='%1.1f%%', startangle=140, colors=colors)\n",
    "# Pie chart 2 - Amount Distribution:\n",
    "Budget[1].pie(values, autopct=lambda p: format_y(p * total_annual_cost / 100), startangle=140, colors=colors)\n",
    "\n",
    "# Setting titles and labels:\n",
    "fig.suptitle('Budget Distribution for Project', fontsize=16)\n",
    "Budget[0].set_title('Percentage Distribution') \n",
    "total_formatted = format_y(total_annual_cost) # Creating a variable that contains the total annual cost in thousands\n",
    "Budget[1].set_title(f'Amount Distribution\\n(Total: {total_formatted})')\n",
    "fig.legend(['Budgeted', 'Not Budgeted'], loc='lower center', fontsize=12)\n",
    "\n",
    "plt.tight_layout()\n",
    "plt.show()"
   ]
  },
  {
   "cell_type": "markdown",
   "id": "e78fdb45-31b1-4091-872b-9641b3c7f0e6",
   "metadata": {},
   "source": [
    "The chart shows that 91.8% of the program's annual cost (75.8 million NIS) is covered by funding, and the Jerusalem Municipality gets reimbursed for the expenses.\\\n",
    "8.2% of the expenses are covered by the municipality itself, which equals 6.8 million NIS."
   ]
  },
  {
   "cell_type": "markdown",
   "id": "caca2c54-7766-4183-a9b8-0126df40391c",
   "metadata": {},
   "source": [
    "## PART 5- Conclusions and suggestions for further research\n"
   ]
  },
  {
   "cell_type": "markdown",
   "id": "070b5d80-564a-4a6c-9081-f82665b4dd1f",
   "metadata": {},
   "source": [
    "I worked as the operations coordinator for the Five-Year Program in East Jerusalem for two years, so I know the program well.\\\n",
    "In the previous five-year period, the data was not organized, so it was impossible to do research and analysis on it.\\\n",
    "During my time as coordinator, I worked on new files that had accurate records of invoices, projects, budgets, reports, and other important information.\\\n",
    "Now, with the organized data (for the last year and a half), I was able to get some useful insights about the program:\n",
    "1. We learned about the division between salaries and activities. The business meaning is related to payments – salaries are paid to employees through the Lavy organization, and we reimburse them, while payments to suppliers are made only after the activity and after receiving the original invoice. This affects how we make payments based on cash flow.\n",
    "2. We learned which months have higher expenses, so we can prepare accordingly with the cash flow.\n",
    "3. We found  the managers who need a warning for submitting invoices late. It will be interesting to check later if they have improved.\n",
    "4. We checked our current cash flow and how much we need to pay now. We have enough money, but we need to open more work orders soon.\n",
    "5. We saw the amount that the Jerusalem Municipality does not get reimbursed from the Ministry of Education. The Education Administration of the Jerusalem Municipality needs to consider this amount as part of the annual work plan.\n",
    "   \n",
    "I would be happy to do another study in a year and a half when we will have data for three years. This will help us better understand the trends and impact of the program, and maybe we can even add breakdowns by neighborhood and institution."
   ]
  },
  {
   "cell_type": "code",
   "execution_count": null,
   "id": "c8dc8f4e-b51a-4a14-88df-c06c3e79e4fa",
   "metadata": {},
   "outputs": [],
   "source": []
  }
 ],
 "metadata": {
  "kernelspec": {
   "display_name": "Python [conda env:base] *",
   "language": "python",
   "name": "conda-base-py"
  },
  "language_info": {
   "codemirror_mode": {
    "name": "ipython",
    "version": 3
   },
   "file_extension": ".py",
   "mimetype": "text/x-python",
   "name": "python",
   "nbconvert_exporter": "python",
   "pygments_lexer": "ipython3",
   "version": "3.12.7"
  }
 },
 "nbformat": 4,
 "nbformat_minor": 5
}
